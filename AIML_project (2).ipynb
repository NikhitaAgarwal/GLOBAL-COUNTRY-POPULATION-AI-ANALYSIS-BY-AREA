{
  "metadata": {
    "language_info": {
      "codemirror_mode": {
        "name": "python",
        "version": 3
      },
      "file_extension": ".py",
      "mimetype": "text/x-python",
      "name": "python",
      "nbconvert_exporter": "python",
      "pygments_lexer": "ipython3",
      "version": "3.8"
    },
    "kernelspec": {
      "name": "python",
      "display_name": "Python (Pyodide)",
      "language": "python"
    }
  },
  "nbformat_minor": 4,
  "nbformat": 4,
  "cells": [
    {
      "cell_type": "code",
      "source": "import numpy as np\nimport pandas as pd\nimport matplotlib.pyplot as plt",
      "metadata": {
        "trusted": true
      },
      "execution_count": 1,
      "outputs": []
    },
    {
      "cell_type": "code",
      "source": "",
      "metadata": {},
      "execution_count": null,
      "outputs": []
    },
    {
      "cell_type": "code",
      "source": "data = pd.read_csv('area_2023.csv')\ndata",
      "metadata": {
        "trusted": true
      },
      "execution_count": 3,
      "outputs": [
        {
          "execution_count": 3,
          "output_type": "execute_result",
          "data": {
            "text/plain": "     place      pop1980       pop2000       pop2010       pop2022  \\\n0      356  696828385.0  1.059634e+09  1.240614e+09  1.417173e+09   \n1      156  982372466.0  1.264099e+09  1.348191e+09  1.425887e+09   \n2      840  223140018.0  2.823986e+08  3.111828e+08  3.382899e+08   \n3      360  148177096.0  2.140724e+08  2.440162e+08  2.755013e+08   \n4      586   80624057.0  1.543699e+08  1.944545e+08  2.358249e+08   \n..     ...          ...           ...           ...           ...   \n229    500      11452.0  5.138000e+03  4.938000e+03  4.390000e+03   \n230    238       2240.0  3.080000e+03  3.187000e+03  3.780000e+03   \n231    570       3637.0  2.074000e+03  1.812000e+03  1.934000e+03   \n232    772       1647.0  1.666000e+03  1.367000e+03  1.871000e+03   \n233    336        733.0  6.510000e+02  5.960000e+02  5.100000e+02   \n\n          pop2023       pop2030       pop2050           country        area  \\\n0    1.428628e+09  1.514994e+09  1.670491e+09             India  3287590.00   \n1    1.425671e+09  1.415606e+09  1.312636e+09             China  9706961.00   \n2    3.399966e+08  3.521623e+08  3.753920e+08     United States  9372610.00   \n3    2.775341e+08  2.921501e+08  3.172252e+08         Indonesia  1904569.00   \n4    2.404857e+08  2.740298e+08  3.678085e+08          Pakistan   881912.00   \n..            ...           ...           ...               ...         ...   \n229  4.386000e+03  4.301000e+03  3.781000e+03        Montserrat      102.00   \n230  3.791000e+03  3.869000e+03  3.779000e+03  Falkland Islands    12173.00   \n231  1.935000e+03  1.948000e+03  2.096000e+03              Niue      261.00   \n232  1.893000e+03  2.046000e+03  2.430000e+03           Tokelau       12.00   \n233  5.180000e+02  5.610000e+02  7.310000e+02      Vatican City        0.44   \n\n     landAreaKm cca2 cca3  netChange  growthRate  worldPercentage    density  \\\n0    2973190.00   IN  IND     0.4184      0.0081           0.1785   480.5033   \n1    9424702.90   CN  CHN    -0.0113     -0.0002           0.1781   151.2696   \n2    9147420.00   US  USA     0.0581      0.0050           0.0425    37.1686   \n3    1877519.00   ID  IDN     0.0727      0.0074           0.0347   147.8196   \n4     770880.00   PK  PAK     0.1495      0.0198           0.0300   311.9625   \n..          ...  ...  ...        ...         ...              ...        ...   \n229      102.00   MS  MSR        NaN     -0.0009              NaN    43.0000   \n230    12173.00   FK  FLK        NaN      0.0029              NaN     0.3114   \n231      261.00   NU  NIU     0.0000      0.0005              NaN     7.4138   \n232       10.00   TK  TKL        NaN      0.0118              NaN   189.3000   \n233        0.44   VA  VAT        NaN      0.0157              NaN  1177.2727   \n\n     densityMi  rank  \n0    1244.5036     1  \n1     391.7884     2  \n2      96.2666     3  \n3     382.8528     4  \n4     807.9829     5  \n..         ...   ...  \n229   111.3700   230  \n230     0.8066   231  \n231    19.2017   232  \n232   490.2870   233  \n233  3049.1364   234  \n\n[234 rows x 19 columns]",
            "text/html": "<div>\n<style scoped>\n    .dataframe tbody tr th:only-of-type {\n        vertical-align: middle;\n    }\n\n    .dataframe tbody tr th {\n        vertical-align: top;\n    }\n\n    .dataframe thead th {\n        text-align: right;\n    }\n</style>\n<table border=\"1\" class=\"dataframe\">\n  <thead>\n    <tr style=\"text-align: right;\">\n      <th></th>\n      <th>place</th>\n      <th>pop1980</th>\n      <th>pop2000</th>\n      <th>pop2010</th>\n      <th>pop2022</th>\n      <th>pop2023</th>\n      <th>pop2030</th>\n      <th>pop2050</th>\n      <th>country</th>\n      <th>area</th>\n      <th>landAreaKm</th>\n      <th>cca2</th>\n      <th>cca3</th>\n      <th>netChange</th>\n      <th>growthRate</th>\n      <th>worldPercentage</th>\n      <th>density</th>\n      <th>densityMi</th>\n      <th>rank</th>\n    </tr>\n  </thead>\n  <tbody>\n    <tr>\n      <th>0</th>\n      <td>356</td>\n      <td>696828385.0</td>\n      <td>1.059634e+09</td>\n      <td>1.240614e+09</td>\n      <td>1.417173e+09</td>\n      <td>1.428628e+09</td>\n      <td>1.514994e+09</td>\n      <td>1.670491e+09</td>\n      <td>India</td>\n      <td>3287590.00</td>\n      <td>2973190.00</td>\n      <td>IN</td>\n      <td>IND</td>\n      <td>0.4184</td>\n      <td>0.0081</td>\n      <td>0.1785</td>\n      <td>480.5033</td>\n      <td>1244.5036</td>\n      <td>1</td>\n    </tr>\n    <tr>\n      <th>1</th>\n      <td>156</td>\n      <td>982372466.0</td>\n      <td>1.264099e+09</td>\n      <td>1.348191e+09</td>\n      <td>1.425887e+09</td>\n      <td>1.425671e+09</td>\n      <td>1.415606e+09</td>\n      <td>1.312636e+09</td>\n      <td>China</td>\n      <td>9706961.00</td>\n      <td>9424702.90</td>\n      <td>CN</td>\n      <td>CHN</td>\n      <td>-0.0113</td>\n      <td>-0.0002</td>\n      <td>0.1781</td>\n      <td>151.2696</td>\n      <td>391.7884</td>\n      <td>2</td>\n    </tr>\n    <tr>\n      <th>2</th>\n      <td>840</td>\n      <td>223140018.0</td>\n      <td>2.823986e+08</td>\n      <td>3.111828e+08</td>\n      <td>3.382899e+08</td>\n      <td>3.399966e+08</td>\n      <td>3.521623e+08</td>\n      <td>3.753920e+08</td>\n      <td>United States</td>\n      <td>9372610.00</td>\n      <td>9147420.00</td>\n      <td>US</td>\n      <td>USA</td>\n      <td>0.0581</td>\n      <td>0.0050</td>\n      <td>0.0425</td>\n      <td>37.1686</td>\n      <td>96.2666</td>\n      <td>3</td>\n    </tr>\n    <tr>\n      <th>3</th>\n      <td>360</td>\n      <td>148177096.0</td>\n      <td>2.140724e+08</td>\n      <td>2.440162e+08</td>\n      <td>2.755013e+08</td>\n      <td>2.775341e+08</td>\n      <td>2.921501e+08</td>\n      <td>3.172252e+08</td>\n      <td>Indonesia</td>\n      <td>1904569.00</td>\n      <td>1877519.00</td>\n      <td>ID</td>\n      <td>IDN</td>\n      <td>0.0727</td>\n      <td>0.0074</td>\n      <td>0.0347</td>\n      <td>147.8196</td>\n      <td>382.8528</td>\n      <td>4</td>\n    </tr>\n    <tr>\n      <th>4</th>\n      <td>586</td>\n      <td>80624057.0</td>\n      <td>1.543699e+08</td>\n      <td>1.944545e+08</td>\n      <td>2.358249e+08</td>\n      <td>2.404857e+08</td>\n      <td>2.740298e+08</td>\n      <td>3.678085e+08</td>\n      <td>Pakistan</td>\n      <td>881912.00</td>\n      <td>770880.00</td>\n      <td>PK</td>\n      <td>PAK</td>\n      <td>0.1495</td>\n      <td>0.0198</td>\n      <td>0.0300</td>\n      <td>311.9625</td>\n      <td>807.9829</td>\n      <td>5</td>\n    </tr>\n    <tr>\n      <th>...</th>\n      <td>...</td>\n      <td>...</td>\n      <td>...</td>\n      <td>...</td>\n      <td>...</td>\n      <td>...</td>\n      <td>...</td>\n      <td>...</td>\n      <td>...</td>\n      <td>...</td>\n      <td>...</td>\n      <td>...</td>\n      <td>...</td>\n      <td>...</td>\n      <td>...</td>\n      <td>...</td>\n      <td>...</td>\n      <td>...</td>\n      <td>...</td>\n    </tr>\n    <tr>\n      <th>229</th>\n      <td>500</td>\n      <td>11452.0</td>\n      <td>5.138000e+03</td>\n      <td>4.938000e+03</td>\n      <td>4.390000e+03</td>\n      <td>4.386000e+03</td>\n      <td>4.301000e+03</td>\n      <td>3.781000e+03</td>\n      <td>Montserrat</td>\n      <td>102.00</td>\n      <td>102.00</td>\n      <td>MS</td>\n      <td>MSR</td>\n      <td>NaN</td>\n      <td>-0.0009</td>\n      <td>NaN</td>\n      <td>43.0000</td>\n      <td>111.3700</td>\n      <td>230</td>\n    </tr>\n    <tr>\n      <th>230</th>\n      <td>238</td>\n      <td>2240.0</td>\n      <td>3.080000e+03</td>\n      <td>3.187000e+03</td>\n      <td>3.780000e+03</td>\n      <td>3.791000e+03</td>\n      <td>3.869000e+03</td>\n      <td>3.779000e+03</td>\n      <td>Falkland Islands</td>\n      <td>12173.00</td>\n      <td>12173.00</td>\n      <td>FK</td>\n      <td>FLK</td>\n      <td>NaN</td>\n      <td>0.0029</td>\n      <td>NaN</td>\n      <td>0.3114</td>\n      <td>0.8066</td>\n      <td>231</td>\n    </tr>\n    <tr>\n      <th>231</th>\n      <td>570</td>\n      <td>3637.0</td>\n      <td>2.074000e+03</td>\n      <td>1.812000e+03</td>\n      <td>1.934000e+03</td>\n      <td>1.935000e+03</td>\n      <td>1.948000e+03</td>\n      <td>2.096000e+03</td>\n      <td>Niue</td>\n      <td>261.00</td>\n      <td>261.00</td>\n      <td>NU</td>\n      <td>NIU</td>\n      <td>0.0000</td>\n      <td>0.0005</td>\n      <td>NaN</td>\n      <td>7.4138</td>\n      <td>19.2017</td>\n      <td>232</td>\n    </tr>\n    <tr>\n      <th>232</th>\n      <td>772</td>\n      <td>1647.0</td>\n      <td>1.666000e+03</td>\n      <td>1.367000e+03</td>\n      <td>1.871000e+03</td>\n      <td>1.893000e+03</td>\n      <td>2.046000e+03</td>\n      <td>2.430000e+03</td>\n      <td>Tokelau</td>\n      <td>12.00</td>\n      <td>10.00</td>\n      <td>TK</td>\n      <td>TKL</td>\n      <td>NaN</td>\n      <td>0.0118</td>\n      <td>NaN</td>\n      <td>189.3000</td>\n      <td>490.2870</td>\n      <td>233</td>\n    </tr>\n    <tr>\n      <th>233</th>\n      <td>336</td>\n      <td>733.0</td>\n      <td>6.510000e+02</td>\n      <td>5.960000e+02</td>\n      <td>5.100000e+02</td>\n      <td>5.180000e+02</td>\n      <td>5.610000e+02</td>\n      <td>7.310000e+02</td>\n      <td>Vatican City</td>\n      <td>0.44</td>\n      <td>0.44</td>\n      <td>VA</td>\n      <td>VAT</td>\n      <td>NaN</td>\n      <td>0.0157</td>\n      <td>NaN</td>\n      <td>1177.2727</td>\n      <td>3049.1364</td>\n      <td>234</td>\n    </tr>\n  </tbody>\n</table>\n<p>234 rows × 19 columns</p>\n</div>"
          },
          "metadata": {}
        }
      ]
    },
    {
      "cell_type": "code",
      "source": "data.head()",
      "metadata": {
        "trusted": true
      },
      "execution_count": 4,
      "outputs": [
        {
          "execution_count": 4,
          "output_type": "execute_result",
          "data": {
            "text/plain": "   place      pop1980       pop2000       pop2010       pop2022       pop2023  \\\n0    356  696828385.0  1.059634e+09  1.240614e+09  1.417173e+09  1.428628e+09   \n1    156  982372466.0  1.264099e+09  1.348191e+09  1.425887e+09  1.425671e+09   \n2    840  223140018.0  2.823986e+08  3.111828e+08  3.382899e+08  3.399966e+08   \n3    360  148177096.0  2.140724e+08  2.440162e+08  2.755013e+08  2.775341e+08   \n4    586   80624057.0  1.543699e+08  1.944545e+08  2.358249e+08  2.404857e+08   \n\n        pop2030       pop2050        country       area  landAreaKm cca2 cca3  \\\n0  1.514994e+09  1.670491e+09          India  3287590.0   2973190.0   IN  IND   \n1  1.415606e+09  1.312636e+09          China  9706961.0   9424702.9   CN  CHN   \n2  3.521623e+08  3.753920e+08  United States  9372610.0   9147420.0   US  USA   \n3  2.921501e+08  3.172252e+08      Indonesia  1904569.0   1877519.0   ID  IDN   \n4  2.740298e+08  3.678085e+08       Pakistan   881912.0    770880.0   PK  PAK   \n\n   netChange  growthRate  worldPercentage   density  densityMi  rank  \n0     0.4184      0.0081           0.1785  480.5033  1244.5036     1  \n1    -0.0113     -0.0002           0.1781  151.2696   391.7884     2  \n2     0.0581      0.0050           0.0425   37.1686    96.2666     3  \n3     0.0727      0.0074           0.0347  147.8196   382.8528     4  \n4     0.1495      0.0198           0.0300  311.9625   807.9829     5  ",
            "text/html": "<div>\n<style scoped>\n    .dataframe tbody tr th:only-of-type {\n        vertical-align: middle;\n    }\n\n    .dataframe tbody tr th {\n        vertical-align: top;\n    }\n\n    .dataframe thead th {\n        text-align: right;\n    }\n</style>\n<table border=\"1\" class=\"dataframe\">\n  <thead>\n    <tr style=\"text-align: right;\">\n      <th></th>\n      <th>place</th>\n      <th>pop1980</th>\n      <th>pop2000</th>\n      <th>pop2010</th>\n      <th>pop2022</th>\n      <th>pop2023</th>\n      <th>pop2030</th>\n      <th>pop2050</th>\n      <th>country</th>\n      <th>area</th>\n      <th>landAreaKm</th>\n      <th>cca2</th>\n      <th>cca3</th>\n      <th>netChange</th>\n      <th>growthRate</th>\n      <th>worldPercentage</th>\n      <th>density</th>\n      <th>densityMi</th>\n      <th>rank</th>\n    </tr>\n  </thead>\n  <tbody>\n    <tr>\n      <th>0</th>\n      <td>356</td>\n      <td>696828385.0</td>\n      <td>1.059634e+09</td>\n      <td>1.240614e+09</td>\n      <td>1.417173e+09</td>\n      <td>1.428628e+09</td>\n      <td>1.514994e+09</td>\n      <td>1.670491e+09</td>\n      <td>India</td>\n      <td>3287590.0</td>\n      <td>2973190.0</td>\n      <td>IN</td>\n      <td>IND</td>\n      <td>0.4184</td>\n      <td>0.0081</td>\n      <td>0.1785</td>\n      <td>480.5033</td>\n      <td>1244.5036</td>\n      <td>1</td>\n    </tr>\n    <tr>\n      <th>1</th>\n      <td>156</td>\n      <td>982372466.0</td>\n      <td>1.264099e+09</td>\n      <td>1.348191e+09</td>\n      <td>1.425887e+09</td>\n      <td>1.425671e+09</td>\n      <td>1.415606e+09</td>\n      <td>1.312636e+09</td>\n      <td>China</td>\n      <td>9706961.0</td>\n      <td>9424702.9</td>\n      <td>CN</td>\n      <td>CHN</td>\n      <td>-0.0113</td>\n      <td>-0.0002</td>\n      <td>0.1781</td>\n      <td>151.2696</td>\n      <td>391.7884</td>\n      <td>2</td>\n    </tr>\n    <tr>\n      <th>2</th>\n      <td>840</td>\n      <td>223140018.0</td>\n      <td>2.823986e+08</td>\n      <td>3.111828e+08</td>\n      <td>3.382899e+08</td>\n      <td>3.399966e+08</td>\n      <td>3.521623e+08</td>\n      <td>3.753920e+08</td>\n      <td>United States</td>\n      <td>9372610.0</td>\n      <td>9147420.0</td>\n      <td>US</td>\n      <td>USA</td>\n      <td>0.0581</td>\n      <td>0.0050</td>\n      <td>0.0425</td>\n      <td>37.1686</td>\n      <td>96.2666</td>\n      <td>3</td>\n    </tr>\n    <tr>\n      <th>3</th>\n      <td>360</td>\n      <td>148177096.0</td>\n      <td>2.140724e+08</td>\n      <td>2.440162e+08</td>\n      <td>2.755013e+08</td>\n      <td>2.775341e+08</td>\n      <td>2.921501e+08</td>\n      <td>3.172252e+08</td>\n      <td>Indonesia</td>\n      <td>1904569.0</td>\n      <td>1877519.0</td>\n      <td>ID</td>\n      <td>IDN</td>\n      <td>0.0727</td>\n      <td>0.0074</td>\n      <td>0.0347</td>\n      <td>147.8196</td>\n      <td>382.8528</td>\n      <td>4</td>\n    </tr>\n    <tr>\n      <th>4</th>\n      <td>586</td>\n      <td>80624057.0</td>\n      <td>1.543699e+08</td>\n      <td>1.944545e+08</td>\n      <td>2.358249e+08</td>\n      <td>2.404857e+08</td>\n      <td>2.740298e+08</td>\n      <td>3.678085e+08</td>\n      <td>Pakistan</td>\n      <td>881912.0</td>\n      <td>770880.0</td>\n      <td>PK</td>\n      <td>PAK</td>\n      <td>0.1495</td>\n      <td>0.0198</td>\n      <td>0.0300</td>\n      <td>311.9625</td>\n      <td>807.9829</td>\n      <td>5</td>\n    </tr>\n  </tbody>\n</table>\n</div>"
          },
          "metadata": {}
        }
      ]
    },
    {
      "cell_type": "code",
      "source": "data.tail()",
      "metadata": {
        "trusted": true
      },
      "execution_count": 5,
      "outputs": [
        {
          "execution_count": 5,
          "output_type": "execute_result",
          "data": {
            "text/plain": "     place  pop1980  pop2000  pop2010  pop2022  pop2023  pop2030  pop2050  \\\n229    500  11452.0   5138.0   4938.0   4390.0   4386.0   4301.0   3781.0   \n230    238   2240.0   3080.0   3187.0   3780.0   3791.0   3869.0   3779.0   \n231    570   3637.0   2074.0   1812.0   1934.0   1935.0   1948.0   2096.0   \n232    772   1647.0   1666.0   1367.0   1871.0   1893.0   2046.0   2430.0   \n233    336    733.0    651.0    596.0    510.0    518.0    561.0    731.0   \n\n              country      area  landAreaKm cca2 cca3  netChange  growthRate  \\\n229        Montserrat    102.00      102.00   MS  MSR        NaN     -0.0009   \n230  Falkland Islands  12173.00    12173.00   FK  FLK        NaN      0.0029   \n231              Niue    261.00      261.00   NU  NIU        0.0      0.0005   \n232           Tokelau     12.00       10.00   TK  TKL        NaN      0.0118   \n233      Vatican City      0.44        0.44   VA  VAT        NaN      0.0157   \n\n     worldPercentage    density  densityMi  rank  \n229              NaN    43.0000   111.3700   230  \n230              NaN     0.3114     0.8066   231  \n231              NaN     7.4138    19.2017   232  \n232              NaN   189.3000   490.2870   233  \n233              NaN  1177.2727  3049.1364   234  ",
            "text/html": "<div>\n<style scoped>\n    .dataframe tbody tr th:only-of-type {\n        vertical-align: middle;\n    }\n\n    .dataframe tbody tr th {\n        vertical-align: top;\n    }\n\n    .dataframe thead th {\n        text-align: right;\n    }\n</style>\n<table border=\"1\" class=\"dataframe\">\n  <thead>\n    <tr style=\"text-align: right;\">\n      <th></th>\n      <th>place</th>\n      <th>pop1980</th>\n      <th>pop2000</th>\n      <th>pop2010</th>\n      <th>pop2022</th>\n      <th>pop2023</th>\n      <th>pop2030</th>\n      <th>pop2050</th>\n      <th>country</th>\n      <th>area</th>\n      <th>landAreaKm</th>\n      <th>cca2</th>\n      <th>cca3</th>\n      <th>netChange</th>\n      <th>growthRate</th>\n      <th>worldPercentage</th>\n      <th>density</th>\n      <th>densityMi</th>\n      <th>rank</th>\n    </tr>\n  </thead>\n  <tbody>\n    <tr>\n      <th>229</th>\n      <td>500</td>\n      <td>11452.0</td>\n      <td>5138.0</td>\n      <td>4938.0</td>\n      <td>4390.0</td>\n      <td>4386.0</td>\n      <td>4301.0</td>\n      <td>3781.0</td>\n      <td>Montserrat</td>\n      <td>102.00</td>\n      <td>102.00</td>\n      <td>MS</td>\n      <td>MSR</td>\n      <td>NaN</td>\n      <td>-0.0009</td>\n      <td>NaN</td>\n      <td>43.0000</td>\n      <td>111.3700</td>\n      <td>230</td>\n    </tr>\n    <tr>\n      <th>230</th>\n      <td>238</td>\n      <td>2240.0</td>\n      <td>3080.0</td>\n      <td>3187.0</td>\n      <td>3780.0</td>\n      <td>3791.0</td>\n      <td>3869.0</td>\n      <td>3779.0</td>\n      <td>Falkland Islands</td>\n      <td>12173.00</td>\n      <td>12173.00</td>\n      <td>FK</td>\n      <td>FLK</td>\n      <td>NaN</td>\n      <td>0.0029</td>\n      <td>NaN</td>\n      <td>0.3114</td>\n      <td>0.8066</td>\n      <td>231</td>\n    </tr>\n    <tr>\n      <th>231</th>\n      <td>570</td>\n      <td>3637.0</td>\n      <td>2074.0</td>\n      <td>1812.0</td>\n      <td>1934.0</td>\n      <td>1935.0</td>\n      <td>1948.0</td>\n      <td>2096.0</td>\n      <td>Niue</td>\n      <td>261.00</td>\n      <td>261.00</td>\n      <td>NU</td>\n      <td>NIU</td>\n      <td>0.0</td>\n      <td>0.0005</td>\n      <td>NaN</td>\n      <td>7.4138</td>\n      <td>19.2017</td>\n      <td>232</td>\n    </tr>\n    <tr>\n      <th>232</th>\n      <td>772</td>\n      <td>1647.0</td>\n      <td>1666.0</td>\n      <td>1367.0</td>\n      <td>1871.0</td>\n      <td>1893.0</td>\n      <td>2046.0</td>\n      <td>2430.0</td>\n      <td>Tokelau</td>\n      <td>12.00</td>\n      <td>10.00</td>\n      <td>TK</td>\n      <td>TKL</td>\n      <td>NaN</td>\n      <td>0.0118</td>\n      <td>NaN</td>\n      <td>189.3000</td>\n      <td>490.2870</td>\n      <td>233</td>\n    </tr>\n    <tr>\n      <th>233</th>\n      <td>336</td>\n      <td>733.0</td>\n      <td>651.0</td>\n      <td>596.0</td>\n      <td>510.0</td>\n      <td>518.0</td>\n      <td>561.0</td>\n      <td>731.0</td>\n      <td>Vatican City</td>\n      <td>0.44</td>\n      <td>0.44</td>\n      <td>VA</td>\n      <td>VAT</td>\n      <td>NaN</td>\n      <td>0.0157</td>\n      <td>NaN</td>\n      <td>1177.2727</td>\n      <td>3049.1364</td>\n      <td>234</td>\n    </tr>\n  </tbody>\n</table>\n</div>"
          },
          "metadata": {}
        }
      ]
    },
    {
      "cell_type": "code",
      "source": "data.describe()",
      "metadata": {
        "trusted": true
      },
      "execution_count": 6,
      "outputs": [
        {
          "execution_count": 6,
          "output_type": "execute_result",
          "data": {
            "text/plain": "            place       pop1980       pop2000       pop2010       pop2022  \\\ncount  234.000000  2.340000e+02  2.340000e+02  2.340000e+02  2.340000e+02   \nmean   439.085470  1.898462e+07  2.626947e+07  2.984524e+07  3.407441e+07   \nstd    253.295484  8.178519e+07  1.116982e+08  1.242185e+08  1.367664e+08   \nmin      4.000000  7.330000e+02  6.510000e+02  5.960000e+02  5.100000e+02   \n25%    223.000000  2.296142e+05  3.272420e+05  3.931490e+05  4.197385e+05   \n50%    439.000000  3.141146e+06  4.292907e+06  4.942770e+06  5.559944e+06   \n75%    659.750000  9.826054e+06  1.576230e+07  1.915957e+07  2.247650e+07   \nmax    894.000000  9.823725e+08  1.264099e+09  1.348191e+09  1.425887e+09   \n\n            pop2023       pop2030       pop2050          area    landAreaKm  \\\ncount  2.340000e+02  2.340000e+02  2.340000e+02  2.340000e+02  2.340000e+02   \nmean   3.437442e+07  3.651461e+07  4.148628e+07  5.814500e+05  5.571123e+05   \nstd    1.373864e+08  1.417827e+08  1.481676e+08  1.761841e+06  1.689972e+06   \nmin    5.180000e+02  5.610000e+02  7.310000e+02  4.400000e-01  4.400000e-01   \n25%    4.225982e+05  4.561490e+05  5.466058e+05  2.650000e+03  2.625875e+03   \n50%    5.643895e+06  6.178231e+06  6.352397e+06  8.119950e+04  7.568925e+04   \n75%    2.324537e+07  2.616311e+07  3.568614e+07  4.304258e+05  4.047876e+05   \nmax    1.428628e+09  1.514994e+09  1.670491e+09  1.709824e+07  1.637687e+07   \n\n        netChange  growthRate  worldPercentage       density     densityMi  \\\ncount  226.000000  234.000000       228.000000    234.000000    234.000000   \nmean     0.010306    0.009737         0.004407    451.288182   1168.836388   \nstd      0.034774    0.012350         0.017375   1979.362419   5126.548664   \nmin     -0.028600   -0.074500         0.000000      0.138000      0.357400   \n25%      0.000000    0.002325         0.000100     39.747650    102.946450   \n50%      0.000900    0.008200         0.000750     97.481000    252.475800   \n75%      0.008000    0.016850         0.002925    242.928650    629.185350   \nmax      0.418400    0.049800         0.178500  21402.705200  55433.006400   \n\n             rank  \ncount  234.000000  \nmean   117.500000  \nstd     67.694165  \nmin      1.000000  \n25%     59.250000  \n50%    117.500000  \n75%    175.750000  \nmax    234.000000  ",
            "text/html": "<div>\n<style scoped>\n    .dataframe tbody tr th:only-of-type {\n        vertical-align: middle;\n    }\n\n    .dataframe tbody tr th {\n        vertical-align: top;\n    }\n\n    .dataframe thead th {\n        text-align: right;\n    }\n</style>\n<table border=\"1\" class=\"dataframe\">\n  <thead>\n    <tr style=\"text-align: right;\">\n      <th></th>\n      <th>place</th>\n      <th>pop1980</th>\n      <th>pop2000</th>\n      <th>pop2010</th>\n      <th>pop2022</th>\n      <th>pop2023</th>\n      <th>pop2030</th>\n      <th>pop2050</th>\n      <th>area</th>\n      <th>landAreaKm</th>\n      <th>netChange</th>\n      <th>growthRate</th>\n      <th>worldPercentage</th>\n      <th>density</th>\n      <th>densityMi</th>\n      <th>rank</th>\n    </tr>\n  </thead>\n  <tbody>\n    <tr>\n      <th>count</th>\n      <td>234.000000</td>\n      <td>2.340000e+02</td>\n      <td>2.340000e+02</td>\n      <td>2.340000e+02</td>\n      <td>2.340000e+02</td>\n      <td>2.340000e+02</td>\n      <td>2.340000e+02</td>\n      <td>2.340000e+02</td>\n      <td>2.340000e+02</td>\n      <td>2.340000e+02</td>\n      <td>226.000000</td>\n      <td>234.000000</td>\n      <td>228.000000</td>\n      <td>234.000000</td>\n      <td>234.000000</td>\n      <td>234.000000</td>\n    </tr>\n    <tr>\n      <th>mean</th>\n      <td>439.085470</td>\n      <td>1.898462e+07</td>\n      <td>2.626947e+07</td>\n      <td>2.984524e+07</td>\n      <td>3.407441e+07</td>\n      <td>3.437442e+07</td>\n      <td>3.651461e+07</td>\n      <td>4.148628e+07</td>\n      <td>5.814500e+05</td>\n      <td>5.571123e+05</td>\n      <td>0.010306</td>\n      <td>0.009737</td>\n      <td>0.004407</td>\n      <td>451.288182</td>\n      <td>1168.836388</td>\n      <td>117.500000</td>\n    </tr>\n    <tr>\n      <th>std</th>\n      <td>253.295484</td>\n      <td>8.178519e+07</td>\n      <td>1.116982e+08</td>\n      <td>1.242185e+08</td>\n      <td>1.367664e+08</td>\n      <td>1.373864e+08</td>\n      <td>1.417827e+08</td>\n      <td>1.481676e+08</td>\n      <td>1.761841e+06</td>\n      <td>1.689972e+06</td>\n      <td>0.034774</td>\n      <td>0.012350</td>\n      <td>0.017375</td>\n      <td>1979.362419</td>\n      <td>5126.548664</td>\n      <td>67.694165</td>\n    </tr>\n    <tr>\n      <th>min</th>\n      <td>4.000000</td>\n      <td>7.330000e+02</td>\n      <td>6.510000e+02</td>\n      <td>5.960000e+02</td>\n      <td>5.100000e+02</td>\n      <td>5.180000e+02</td>\n      <td>5.610000e+02</td>\n      <td>7.310000e+02</td>\n      <td>4.400000e-01</td>\n      <td>4.400000e-01</td>\n      <td>-0.028600</td>\n      <td>-0.074500</td>\n      <td>0.000000</td>\n      <td>0.138000</td>\n      <td>0.357400</td>\n      <td>1.000000</td>\n    </tr>\n    <tr>\n      <th>25%</th>\n      <td>223.000000</td>\n      <td>2.296142e+05</td>\n      <td>3.272420e+05</td>\n      <td>3.931490e+05</td>\n      <td>4.197385e+05</td>\n      <td>4.225982e+05</td>\n      <td>4.561490e+05</td>\n      <td>5.466058e+05</td>\n      <td>2.650000e+03</td>\n      <td>2.625875e+03</td>\n      <td>0.000000</td>\n      <td>0.002325</td>\n      <td>0.000100</td>\n      <td>39.747650</td>\n      <td>102.946450</td>\n      <td>59.250000</td>\n    </tr>\n    <tr>\n      <th>50%</th>\n      <td>439.000000</td>\n      <td>3.141146e+06</td>\n      <td>4.292907e+06</td>\n      <td>4.942770e+06</td>\n      <td>5.559944e+06</td>\n      <td>5.643895e+06</td>\n      <td>6.178231e+06</td>\n      <td>6.352397e+06</td>\n      <td>8.119950e+04</td>\n      <td>7.568925e+04</td>\n      <td>0.000900</td>\n      <td>0.008200</td>\n      <td>0.000750</td>\n      <td>97.481000</td>\n      <td>252.475800</td>\n      <td>117.500000</td>\n    </tr>\n    <tr>\n      <th>75%</th>\n      <td>659.750000</td>\n      <td>9.826054e+06</td>\n      <td>1.576230e+07</td>\n      <td>1.915957e+07</td>\n      <td>2.247650e+07</td>\n      <td>2.324537e+07</td>\n      <td>2.616311e+07</td>\n      <td>3.568614e+07</td>\n      <td>4.304258e+05</td>\n      <td>4.047876e+05</td>\n      <td>0.008000</td>\n      <td>0.016850</td>\n      <td>0.002925</td>\n      <td>242.928650</td>\n      <td>629.185350</td>\n      <td>175.750000</td>\n    </tr>\n    <tr>\n      <th>max</th>\n      <td>894.000000</td>\n      <td>9.823725e+08</td>\n      <td>1.264099e+09</td>\n      <td>1.348191e+09</td>\n      <td>1.425887e+09</td>\n      <td>1.428628e+09</td>\n      <td>1.514994e+09</td>\n      <td>1.670491e+09</td>\n      <td>1.709824e+07</td>\n      <td>1.637687e+07</td>\n      <td>0.418400</td>\n      <td>0.049800</td>\n      <td>0.178500</td>\n      <td>21402.705200</td>\n      <td>55433.006400</td>\n      <td>234.000000</td>\n    </tr>\n  </tbody>\n</table>\n</div>"
          },
          "metadata": {}
        }
      ]
    },
    {
      "cell_type": "code",
      "source": "data.info()",
      "metadata": {
        "trusted": true
      },
      "execution_count": 7,
      "outputs": [
        {
          "name": "stdout",
          "text": "<class 'pandas.core.frame.DataFrame'>\nRangeIndex: 234 entries, 0 to 233\nData columns (total 19 columns):\n #   Column           Non-Null Count  Dtype  \n---  ------           --------------  -----  \n 0   place            234 non-null    int64  \n 1   pop1980          234 non-null    float64\n 2   pop2000          234 non-null    float64\n 3   pop2010          234 non-null    float64\n 4   pop2022          234 non-null    float64\n 5   pop2023          234 non-null    float64\n 6   pop2030          234 non-null    float64\n 7   pop2050          234 non-null    float64\n 8   country          234 non-null    object \n 9   area             234 non-null    float64\n 10  landAreaKm       234 non-null    float64\n 11  cca2             233 non-null    object \n 12  cca3             234 non-null    object \n 13  netChange        226 non-null    float64\n 14  growthRate       234 non-null    float64\n 15  worldPercentage  228 non-null    float64\n 16  density          234 non-null    float64\n 17  densityMi        234 non-null    float64\n 18  rank             234 non-null    int64  \ndtypes: float64(14), int64(2), object(3)\nmemory usage: 32.1+ KB\n",
          "output_type": "stream"
        }
      ]
    },
    {
      "cell_type": "code",
      "source": "data.dropna(inplace=True)",
      "metadata": {
        "trusted": true
      },
      "execution_count": 8,
      "outputs": []
    },
    {
      "cell_type": "code",
      "source": "data.info()",
      "metadata": {
        "trusted": true
      },
      "execution_count": 9,
      "outputs": [
        {
          "name": "stdout",
          "text": "<class 'pandas.core.frame.DataFrame'>\nInt64Index: 224 entries, 0 to 226\nData columns (total 19 columns):\n #   Column           Non-Null Count  Dtype  \n---  ------           --------------  -----  \n 0   place            224 non-null    int64  \n 1   pop1980          224 non-null    float64\n 2   pop2000          224 non-null    float64\n 3   pop2010          224 non-null    float64\n 4   pop2022          224 non-null    float64\n 5   pop2023          224 non-null    float64\n 6   pop2030          224 non-null    float64\n 7   pop2050          224 non-null    float64\n 8   country          224 non-null    object \n 9   area             224 non-null    float64\n 10  landAreaKm       224 non-null    float64\n 11  cca2             224 non-null    object \n 12  cca3             224 non-null    object \n 13  netChange        224 non-null    float64\n 14  growthRate       224 non-null    float64\n 15  worldPercentage  224 non-null    float64\n 16  density          224 non-null    float64\n 17  densityMi        224 non-null    float64\n 18  rank             224 non-null    int64  \ndtypes: float64(14), int64(2), object(3)\nmemory usage: 32.4+ KB\n",
          "output_type": "stream"
        }
      ]
    },
    {
      "cell_type": "code",
      "source": "data.shape",
      "metadata": {
        "trusted": true
      },
      "execution_count": 10,
      "outputs": [
        {
          "execution_count": 10,
          "output_type": "execute_result",
          "data": {
            "text/plain": "(224, 19)"
          },
          "metadata": {}
        }
      ]
    },
    {
      "cell_type": "code",
      "source": "data.isnull().any()",
      "metadata": {
        "trusted": true
      },
      "execution_count": 11,
      "outputs": [
        {
          "execution_count": 11,
          "output_type": "execute_result",
          "data": {
            "text/plain": "place              False\npop1980            False\npop2000            False\npop2010            False\npop2022            False\npop2023            False\npop2030            False\npop2050            False\ncountry            False\narea               False\nlandAreaKm         False\ncca2               False\ncca3               False\nnetChange          False\ngrowthRate         False\nworldPercentage    False\ndensity            False\ndensityMi          False\nrank               False\ndtype: bool"
          },
          "metadata": {}
        }
      ]
    },
    {
      "cell_type": "code",
      "source": "data.isnull().sum()",
      "metadata": {
        "trusted": true
      },
      "execution_count": 12,
      "outputs": [
        {
          "execution_count": 12,
          "output_type": "execute_result",
          "data": {
            "text/plain": "place              0\npop1980            0\npop2000            0\npop2010            0\npop2022            0\npop2023            0\npop2030            0\npop2050            0\ncountry            0\narea               0\nlandAreaKm         0\ncca2               0\ncca3               0\nnetChange          0\ngrowthRate         0\nworldPercentage    0\ndensity            0\ndensityMi          0\nrank               0\ndtype: int64"
          },
          "metadata": {}
        }
      ]
    },
    {
      "cell_type": "code",
      "source": "\nplt.figure(figsize= ( 10, 6))\nplt.scatter(data.pop2023,data.area)\nplt.xlabel('Population')\nplt.ylabel('Area')\nplt.title('Population VS Area')\nplt.show()",
      "metadata": {
        "trusted": true
      },
      "execution_count": 13,
      "outputs": [
        {
          "output_type": "display_data",
          "data": {
            "text/plain": "<Figure size 1000x600 with 1 Axes>",
            "image/png": "[encoded data removed]"
          },
          "metadata": {}
        }
      ]
    },
    {
      "cell_type": "code",
      "source": "x=data[['pop2023','growthRate','worldPercentage','density','rank']]\nx",
      "metadata": {
        "trusted": true
      },
      "execution_count": 14,
      "outputs": [
        {
          "execution_count": 14,
          "output_type": "execute_result",
          "data": {
            "text/plain": "          pop2023  growthRate  worldPercentage   density  rank\n0    1.428628e+09      0.0081           0.1785  480.5033     1\n1    1.425671e+09     -0.0002           0.1781  151.2696     2\n2    3.399966e+08      0.0050           0.0425   37.1686     3\n3    2.775341e+08      0.0074           0.0347  147.8196     4\n4    2.404857e+08      0.0198           0.0300  311.9625     5\n..            ...         ...              ...       ...   ...\n222  1.704400e+04      0.0019           0.0000   71.0167   223\n223  1.589900e+04      0.0026           0.0000  174.7143   224\n224  1.278000e+04      0.0088           0.0000  639.0000   225\n225  1.150200e+04     -0.0060           0.0000   41.9781   226\n226  1.139600e+04      0.0074           0.0000  379.8667   227\n\n[224 rows x 5 columns]",
            "text/html": "<div>\n<style scoped>\n    .dataframe tbody tr th:only-of-type {\n        vertical-align: middle;\n    }\n\n    .dataframe tbody tr th {\n        vertical-align: top;\n    }\n\n    .dataframe thead th {\n        text-align: right;\n    }\n</style>\n<table border=\"1\" class=\"dataframe\">\n  <thead>\n    <tr style=\"text-align: right;\">\n      <th></th>\n      <th>pop2023</th>\n      <th>growthRate</th>\n      <th>worldPercentage</th>\n      <th>density</th>\n      <th>rank</th>\n    </tr>\n  </thead>\n  <tbody>\n    <tr>\n      <th>0</th>\n      <td>1.428628e+09</td>\n      <td>0.0081</td>\n      <td>0.1785</td>\n      <td>480.5033</td>\n      <td>1</td>\n    </tr>\n    <tr>\n      <th>1</th>\n      <td>1.425671e+09</td>\n      <td>-0.0002</td>\n      <td>0.1781</td>\n      <td>151.2696</td>\n      <td>2</td>\n    </tr>\n    <tr>\n      <th>2</th>\n      <td>3.399966e+08</td>\n      <td>0.0050</td>\n      <td>0.0425</td>\n      <td>37.1686</td>\n      <td>3</td>\n    </tr>\n    <tr>\n      <th>3</th>\n      <td>2.775341e+08</td>\n      <td>0.0074</td>\n      <td>0.0347</td>\n      <td>147.8196</td>\n      <td>4</td>\n    </tr>\n    <tr>\n      <th>4</th>\n      <td>2.404857e+08</td>\n      <td>0.0198</td>\n      <td>0.0300</td>\n      <td>311.9625</td>\n      <td>5</td>\n    </tr>\n    <tr>\n      <th>...</th>\n      <td>...</td>\n      <td>...</td>\n      <td>...</td>\n      <td>...</td>\n      <td>...</td>\n    </tr>\n    <tr>\n      <th>222</th>\n      <td>1.704400e+04</td>\n      <td>0.0019</td>\n      <td>0.0000</td>\n      <td>71.0167</td>\n      <td>223</td>\n    </tr>\n    <tr>\n      <th>223</th>\n      <td>1.589900e+04</td>\n      <td>0.0026</td>\n      <td>0.0000</td>\n      <td>174.7143</td>\n      <td>224</td>\n    </tr>\n    <tr>\n      <th>224</th>\n      <td>1.278000e+04</td>\n      <td>0.0088</td>\n      <td>0.0000</td>\n      <td>639.0000</td>\n      <td>225</td>\n    </tr>\n    <tr>\n      <th>225</th>\n      <td>1.150200e+04</td>\n      <td>-0.0060</td>\n      <td>0.0000</td>\n      <td>41.9781</td>\n      <td>226</td>\n    </tr>\n    <tr>\n      <th>226</th>\n      <td>1.139600e+04</td>\n      <td>0.0074</td>\n      <td>0.0000</td>\n      <td>379.8667</td>\n      <td>227</td>\n    </tr>\n  </tbody>\n</table>\n<p>224 rows × 5 columns</p>\n</div>"
          },
          "metadata": {}
        }
      ]
    },
    {
      "cell_type": "code",
      "source": "y=data[['area']]\ny",
      "metadata": {
        "trusted": true
      },
      "execution_count": 15,
      "outputs": [
        {
          "execution_count": 15,
          "output_type": "execute_result",
          "data": {
            "text/plain": "          area\n0    3287590.0\n1    9706961.0\n2    9372610.0\n3    1904569.0\n4     881912.0\n..         ...\n222      240.0\n223       91.0\n224       21.0\n225      274.0\n226       26.0\n\n[224 rows x 1 columns]",
            "text/html": "<div>\n<style scoped>\n    .dataframe tbody tr th:only-of-type {\n        vertical-align: middle;\n    }\n\n    .dataframe tbody tr th {\n        vertical-align: top;\n    }\n\n    .dataframe thead th {\n        text-align: right;\n    }\n</style>\n<table border=\"1\" class=\"dataframe\">\n  <thead>\n    <tr style=\"text-align: right;\">\n      <th></th>\n      <th>area</th>\n    </tr>\n  </thead>\n  <tbody>\n    <tr>\n      <th>0</th>\n      <td>3287590.0</td>\n    </tr>\n    <tr>\n      <th>1</th>\n      <td>9706961.0</td>\n    </tr>\n    <tr>\n      <th>2</th>\n      <td>9372610.0</td>\n    </tr>\n    <tr>\n      <th>3</th>\n      <td>1904569.0</td>\n    </tr>\n    <tr>\n      <th>4</th>\n      <td>881912.0</td>\n    </tr>\n    <tr>\n      <th>...</th>\n      <td>...</td>\n    </tr>\n    <tr>\n      <th>222</th>\n      <td>240.0</td>\n    </tr>\n    <tr>\n      <th>223</th>\n      <td>91.0</td>\n    </tr>\n    <tr>\n      <th>224</th>\n      <td>21.0</td>\n    </tr>\n    <tr>\n      <th>225</th>\n      <td>274.0</td>\n    </tr>\n    <tr>\n      <th>226</th>\n      <td>26.0</td>\n    </tr>\n  </tbody>\n</table>\n<p>224 rows × 1 columns</p>\n</div>"
          },
          "metadata": {}
        }
      ]
    },
    {
      "cell_type": "code",
      "source": "from sklearn.model_selection import train_test_split\n",
      "metadata": {
        "trusted": true
      },
      "execution_count": 16,
      "outputs": []
    },
    {
      "cell_type": "code",
      "source": "x_train, x_test, y_train, y_test = train_test_split(x, y, test_size=0.2, random_state=42)\n",
      "metadata": {
        "trusted": true
      },
      "execution_count": 26,
      "outputs": []
    },
    {
      "cell_type": "code",
      "source": "x_train.shape",
      "metadata": {
        "trusted": true
      },
      "execution_count": 27,
      "outputs": [
        {
          "execution_count": 27,
          "output_type": "execute_result",
          "data": {
            "text/plain": "(179, 5)"
          },
          "metadata": {}
        }
      ]
    },
    {
      "cell_type": "code",
      "source": "x_test.shape",
      "metadata": {
        "trusted": true
      },
      "execution_count": 28,
      "outputs": [
        {
          "execution_count": 28,
          "output_type": "execute_result",
          "data": {
            "text/plain": "(45, 5)"
          },
          "metadata": {}
        }
      ]
    },
    {
      "cell_type": "code",
      "source": "y_train.shape",
      "metadata": {
        "trusted": true
      },
      "execution_count": 29,
      "outputs": [
        {
          "execution_count": 29,
          "output_type": "execute_result",
          "data": {
            "text/plain": "(179, 1)"
          },
          "metadata": {}
        }
      ]
    },
    {
      "cell_type": "code",
      "source": "y_test.shape",
      "metadata": {
        "trusted": true
      },
      "execution_count": 30,
      "outputs": [
        {
          "execution_count": 30,
          "output_type": "execute_result",
          "data": {
            "text/plain": "(45, 1)"
          },
          "metadata": {}
        }
      ]
    },
    {
      "cell_type": "code",
      "source": "from sklearn.preprocessing import StandardScaler\n",
      "metadata": {
        "trusted": true
      },
      "execution_count": 31,
      "outputs": []
    },
    {
      "cell_type": "code",
      "source": "scaler = StandardScaler()\nx_train = scaler.fit_transform(x_train)\nx_test = scaler.transform(x_test)\n",
      "metadata": {
        "trusted": true
      },
      "execution_count": 32,
      "outputs": []
    },
    {
      "cell_type": "code",
      "source": "from sklearn.ensemble import RandomForestRegressor\n",
      "metadata": {
        "trusted": true
      },
      "execution_count": 33,
      "outputs": []
    },
    {
      "cell_type": "code",
      "source": "regressor = RandomForestRegressor(n_estimators=100, random_state=42)\nregressor.fit(x_train, y_train)\n",
      "metadata": {
        "trusted": true
      },
      "execution_count": 34,
      "outputs": [
        {
          "name": "stderr",
          "text": "/lib/python3.11/site-packages/sklearn/base.py:1152: DataConversionWarning: A column-vector y was passed when a 1d array was expected. Please change the shape of y to (n_samples,), for example using ravel().\n  return fit_method(estimator, *args, **kwargs)\n",
          "output_type": "stream"
        },
        {
          "execution_count": 34,
          "output_type": "execute_result",
          "data": {
            "text/plain": "RandomForestRegressor(random_state=42)",
            "text/html": "<style>#sk-container-id-2 {color: black;}#sk-container-id-2 pre{padding: 0;}#sk-container-id-2 div.sk-toggleable {background-color: white;}#sk-container-id-2 label.sk-toggleable__label {cursor: pointer;display: block;width: 100%;margin-bottom: 0;padding: 0.3em;box-sizing: border-box;text-align: center;}#sk-container-id-2 label.sk-toggleable__label-arrow:before {content: \"▸\";float: left;margin-right: 0.25em;color: #696969;}#sk-container-id-2 label.sk-toggleable__label-arrow:hover:before {color: black;}#sk-container-id-2 div.sk-estimator:hover label.sk-toggleable__label-arrow:before {color: black;}#sk-container-id-2 div.sk-toggleable__content {max-height: 0;max-width: 0;overflow: hidden;text-align: left;background-color: #f0f8ff;}#sk-container-id-2 div.sk-toggleable__content pre {margin: 0.2em;color: black;border-radius: 0.25em;background-color: #f0f8ff;}#sk-container-id-2 input.sk-toggleable__control:checked~div.sk-toggleable__content {max-height: 200px;max-width: 100%;overflow: auto;}#sk-container-id-2 input.sk-toggleable__control:checked~label.sk-toggleable__label-arrow:before {content: \"▾\";}#sk-container-id-2 div.sk-estimator input.sk-toggleable__control:checked~label.sk-toggleable__label {background-color: #d4ebff;}#sk-container-id-2 div.sk-label input.sk-toggleable__control:checked~label.sk-toggleable__label {background-color: #d4ebff;}#sk-container-id-2 input.sk-hidden--visually {border: 0;clip: rect(1px 1px 1px 1px);clip: rect(1px, 1px, 1px, 1px);height: 1px;margin: -1px;overflow: hidden;padding: 0;position: absolute;width: 1px;}#sk-container-id-2 div.sk-estimator {font-family: monospace;background-color: #f0f8ff;border: 1px dotted black;border-radius: 0.25em;box-sizing: border-box;margin-bottom: 0.5em;}#sk-container-id-2 div.sk-estimator:hover {background-color: #d4ebff;}#sk-container-id-2 div.sk-parallel-item::after {content: \"\";width: 100%;border-bottom: 1px solid gray;flex-grow: 1;}#sk-container-id-2 div.sk-label:hover label.sk-toggleable__label {background-color: #d4ebff;}#sk-container-id-2 div.sk-serial::before {content: \"\";position: absolute;border-left: 1px solid gray;box-sizing: border-box;top: 0;bottom: 0;left: 50%;z-index: 0;}#sk-container-id-2 div.sk-serial {display: flex;flex-direction: column;align-items: center;background-color: white;padding-right: 0.2em;padding-left: 0.2em;position: relative;}#sk-container-id-2 div.sk-item {position: relative;z-index: 1;}#sk-container-id-2 div.sk-parallel {display: flex;align-items: stretch;justify-content: center;background-color: white;position: relative;}#sk-container-id-2 div.sk-item::before, #sk-container-id-2 div.sk-parallel-item::before {content: \"\";position: absolute;border-left: 1px solid gray;box-sizing: border-box;top: 0;bottom: 0;left: 50%;z-index: -1;}#sk-container-id-2 div.sk-parallel-item {display: flex;flex-direction: column;z-index: 1;position: relative;background-color: white;}#sk-container-id-2 div.sk-parallel-item:first-child::after {align-self: flex-end;width: 50%;}#sk-container-id-2 div.sk-parallel-item:last-child::after {align-self: flex-start;width: 50%;}#sk-container-id-2 div.sk-parallel-item:only-child::after {width: 0;}#sk-container-id-2 div.sk-dashed-wrapped {border: 1px dashed gray;margin: 0 0.4em 0.5em 0.4em;box-sizing: border-box;padding-bottom: 0.4em;background-color: white;}#sk-container-id-2 div.sk-label label {font-family: monospace;font-weight: bold;display: inline-block;line-height: 1.2em;}#sk-container-id-2 div.sk-label-container {text-align: center;}#sk-container-id-2 div.sk-container {/* jupyter's `normalize.less` sets `[hidden] { display: none; }` but bootstrap.min.css set `[hidden] { display: none !important; }` so we also need the `!important` here to be able to override the default hidden behavior on the sphinx rendered scikit-learn.org. See: https://github.com/scikit-learn/scikit-learn/issues/21755 */display: inline-block !important;position: relative;}#sk-container-id-2 div.sk-text-repr-fallback {display: none;}</style><div id=\"sk-container-id-2\" class=\"sk-top-container\"><div class=\"sk-text-repr-fallback\"><pre>RandomForestRegressor(random_state=42)</pre><b>In a Jupyter environment, please rerun this cell to show the HTML representation or trust the notebook. <br />On GitHub, the HTML representation is unable to render, please try loading this page with nbviewer.org.</b></div><div class=\"sk-container\" hidden><div class=\"sk-item\"><div class=\"sk-estimator sk-toggleable\"><input class=\"sk-toggleable__control sk-hidden--visually\" id=\"sk-estimator-id-2\" type=\"checkbox\" checked><label for=\"sk-estimator-id-2\" class=\"sk-toggleable__label sk-toggleable__label-arrow\">RandomForestRegressor</label><div class=\"sk-toggleable__content\"><pre>RandomForestRegressor(random_state=42)</pre></div></div></div></div></div>"
          },
          "metadata": {}
        }
      ]
    },
    {
      "cell_type": "code",
      "source": "y_pred = regressor.predict(x_test)\ny_pred",
      "metadata": {
        "trusted": true
      },
      "execution_count": 35,
      "outputs": [
        {
          "execution_count": 35,
          "output_type": "execute_result",
          "data": {
            "text/plain": "array([1.80880449e+06, 9.84659200e+04, 3.03572170e+05, 4.48615210e+05,\n       5.54184000e+01, 1.38191800e+04, 7.29012620e+05, 1.20603330e+05,\n       5.26382210e+05, 1.61376000e+03, 2.20925880e+05, 3.90784710e+05,\n       4.03790000e+02, 6.03637180e+05, 1.53986400e+06, 4.56633120e+05,\n       1.51586000e+03, 9.32272200e+04, 8.98550000e+02, 3.19069100e+04,\n       9.13746100e+04, 3.48312500e+05, 7.39892360e+05, 5.50132500e+04,\n       2.76756900e+04, 7.67681710e+05, 5.38760000e+02, 2.96484020e+05,\n       1.14428900e+05, 8.09150200e+04, 3.29919800e+03, 1.60989590e+05,\n       1.05149706e+06, 1.02743000e+03, 1.17401000e+04, 5.56240300e+04,\n       3.70535000e+03, 2.36804000e+04, 4.42403500e+04, 2.88215400e+04,\n       1.33238000e+04, 9.07299070e+05, 1.63473850e+05, 1.73087600e+04,\n       2.93993000e+03])"
          },
          "metadata": {}
        }
      ]
    },
    {
      "cell_type": "code",
      "source": "from sklearn.metrics import r2_score",
      "metadata": {
        "trusted": true
      },
      "execution_count": 36,
      "outputs": []
    },
    {
      "cell_type": "code",
      "source": "acc = r2_score(y_test,y_pred)\nacc",
      "metadata": {
        "trusted": true
      },
      "execution_count": 37,
      "outputs": [
        {
          "execution_count": 37,
          "output_type": "execute_result",
          "data": {
            "text/plain": "0.8156856685808144"
          },
          "metadata": {}
        }
      ]
    },
    {
      "cell_type": "code",
      "source": "from sklearn.metrics import mean_squared_error, mean_absolute_error",
      "metadata": {
        "trusted": true
      },
      "execution_count": 38,
      "outputs": []
    },
    {
      "cell_type": "code",
      "source": "mse = mean_squared_error(y_test, y_pred)\nrmse = np.sqrt(mse)\nmae = mean_absolute_error(y_test, y_pred)\n",
      "metadata": {
        "trusted": true
      },
      "execution_count": 39,
      "outputs": []
    },
    {
      "cell_type": "code",
      "source": "print(\"Mean Squared Error (MSE):\", mse)\nprint(\"Root Mean Squared Error (RMSE):\", rmse)\nprint(\"Mean Absolute Error (MAE):\", mae)\n",
      "metadata": {
        "trusted": true
      },
      "execution_count": 40,
      "outputs": [
        {
          "name": "stdout",
          "text": "Mean Squared Error (MSE): 56189952310.13052\nRoot Mean Squared Error (RMSE): 237044.19906450046\nMean Absolute Error (MAE): 97592.33214222222\n",
          "output_type": "stream"
        }
      ]
    }
  ]
}